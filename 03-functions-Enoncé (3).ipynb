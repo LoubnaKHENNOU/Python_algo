{
 "cells": [
  {
   "cell_type": "markdown",
   "metadata": {},
   "source": [
    "# Python the basics: functions\n",
    "\n",
    "> *DS Data manipulation, analysis and visualisation in Python*  \n",
    "> *September, 2020*\n"
   ]
  },
  {
   "cell_type": "markdown",
   "metadata": {},
   "source": [
    "## Functions"
   ]
  },
  {
   "cell_type": "markdown",
   "metadata": {},
   "source": [
    "### Function definition"
   ]
  },
  {
   "cell_type": "markdown",
   "metadata": {},
   "source": [
    "Function blocks must be indented as other control-flow blocks"
   ]
  },
  {
   "cell_type": "code",
   "execution_count": null,
   "metadata": {},
   "outputs": [],
   "source": [
    "a = 3\n",
    "b = 6\n",
    "a + b"
   ]
  },
  {
   "cell_type": "code",
   "execution_count": null,
   "metadata": {},
   "outputs": [],
   "source": [
    "##Création de la fonction\n",
    "def addition(a,b): ##Définir une fonction avec 2 arguments (a et b)\n",
    "    print(a+b) ##Afficher en sortie la somme des 2"
   ]
  },
  {
   "cell_type": "code",
   "execution_count": null,
   "metadata": {},
   "outputs": [],
   "source": [
    "##Appeler la fonction \n",
    "addition(3,6)"
   ]
  },
  {
   "cell_type": "code",
   "execution_count": null,
   "metadata": {},
   "outputs": [],
   "source": [
    "##Appeler la fonction \n",
    "addition(9,6)"
   ]
  },
  {
   "cell_type": "code",
   "execution_count": null,
   "metadata": {},
   "outputs": [],
   "source": [
    "##Appeler la fonction \n",
    "addition(34,56)"
   ]
  },
  {
   "cell_type": "code",
   "execution_count": null,
   "metadata": {},
   "outputs": [],
   "source": [
    "%whos"
   ]
  },
  {
   "cell_type": "code",
   "execution_count": null,
   "metadata": {
    "run_control": {
     "frozen": false,
     "read_only": false
    }
   },
   "outputs": [],
   "source": [
    "def the_answer_to_the_universe(): ##Fonction sans arguments\n",
    "    print(42)\n",
    "\n",
    "the_answer_to_the_universe()"
   ]
  },
  {
   "cell_type": "markdown",
   "metadata": {},
   "source": [
    "**Note**: the syntax to define a function:\n",
    "\n",
    "* the def keyword;\n",
    "* is followed by the function’s name, then\n",
    "* the arguments of the function are given between parentheses followed by a colon.\n",
    "* the function body;\n",
    "* and return object for optionally returning values.\n"
   ]
  },
  {
   "cell_type": "markdown",
   "metadata": {},
   "source": [
    "### Return statement"
   ]
  },
  {
   "cell_type": "markdown",
   "metadata": {},
   "source": [
    "Functions can *optionally* return values"
   ]
  },
  {
   "cell_type": "code",
   "execution_count": null,
   "metadata": {
    "run_control": {
     "frozen": false,
     "read_only": false
    }
   },
   "outputs": [],
   "source": [
    "def calcAreaSquare(edge): ##Définition de l'air d'un carré\n",
    "    return edge**2 ##Aire du carré\n",
    "\n",
    "calcAreaSquare(2.3) ##Appel de la fonction "
   ]
  },
  {
   "cell_type": "code",
   "execution_count": null,
   "metadata": {},
   "outputs": [],
   "source": []
  },
  {
   "cell_type": "markdown",
   "metadata": {},
   "source": [
    "### Parameters"
   ]
  },
  {
   "cell_type": "markdown",
   "metadata": {},
   "source": [
    "Mandatory parameters (positional arguments)"
   ]
  },
  {
   "cell_type": "code",
   "execution_count": null,
   "metadata": {
    "run_control": {
     "frozen": false,
     "read_only": false
    }
   },
   "outputs": [],
   "source": [
    "def double_it(x):\n",
    "    return 2*x"
   ]
  },
  {
   "cell_type": "code",
   "execution_count": null,
   "metadata": {},
   "outputs": [],
   "source": [
    "double_it(3)"
   ]
  },
  {
   "cell_type": "code",
   "execution_count": null,
   "metadata": {},
   "outputs": [],
   "source": [
    "%whos"
   ]
  },
  {
   "cell_type": "code",
   "execution_count": null,
   "metadata": {
    "run_control": {
     "frozen": false,
     "read_only": false
    }
   },
   "outputs": [],
   "source": [
    "#double_it() ##Message d'erreur si on met pas d'argument pour cette fonction"
   ]
  },
  {
   "cell_type": "markdown",
   "metadata": {},
   "source": [
    "Optional parameters (keyword or named arguments)\n",
    "\n",
    "The order of the keyword arguments does not matter, but it is good practice to use the same ordering as the function's definition\n",
    "\n",
    "*Keyword arguments* are a very convenient feature for defining functions with a variable number of arguments, especially when default values are to be used in most calls to the function."
   ]
  },
  {
   "cell_type": "code",
   "execution_count": null,
   "metadata": {
    "run_control": {
     "frozen": false,
     "read_only": false
    }
   },
   "outputs": [],
   "source": [
    "def double_it (x=1): ##Par défaut la valeur de x vaut 1, si j'oublie de mettre l'argument dans le print, ça sera 1\n",
    "    return 2*x\n",
    "\n",
    "print(double_it(3)) ##Si un argument est présent, ici 3"
   ]
  },
  {
   "cell_type": "code",
   "execution_count": null,
   "metadata": {
    "run_control": {
     "frozen": false,
     "read_only": false
    }
   },
   "outputs": [],
   "source": [
    "print(double_it()) ##Argument par défaut x = 1"
   ]
  },
  {
   "cell_type": "code",
   "execution_count": null,
   "metadata": {
    "run_control": {
     "frozen": false,
     "read_only": false
    }
   },
   "outputs": [],
   "source": [
    "def addition(int1=1, int2=1, int3=1): ##Tous les arguments valent 1 par défaut\n",
    "    return int1 + 2*int2 + 3*int3\n",
    "\n",
    "print(addition(int1=1, int2=1, int3=1))"
   ]
  },
  {
   "cell_type": "code",
   "execution_count": null,
   "metadata": {},
   "outputs": [],
   "source": [
    "print(addition()) ##Par défaut, 6"
   ]
  },
  {
   "cell_type": "code",
   "execution_count": null,
   "metadata": {
    "run_control": {
     "frozen": false,
     "read_only": false
    }
   },
   "outputs": [],
   "source": [
    "print(addition(int1=1, int3=3, int2=1)) # sequence of these named arguments do not matter"
   ]
  },
  {
   "cell_type": "markdown",
   "metadata": {},
   "source": [
    "<div class=\"alert alert-danger\">\n",
    "    <b>NOTE</b>: <br><br>\n",
    "    Default values are evaluated when the function is defined, not when it is called. This can be problematic when using mutable types (e.g. dictionary or list) and modifying them in the function body, since the modifications will be persistent across invocations of the function.\n",
    "\n",
    "Using an immutable type in a keyword argument:\n",
    "</div>"
   ]
  },
  {
   "cell_type": "code",
   "execution_count": null,
   "metadata": {
    "run_control": {
     "frozen": false,
     "read_only": false
    }
   },
   "outputs": [],
   "source": [
    "bigx = 10\n",
    "def double_it(x=bigx): #argument  : valeur en mémoire au moment ou double_it a été exécuté\n",
    "    return x * 2"
   ]
  },
  {
   "cell_type": "code",
   "execution_count": null,
   "metadata": {},
   "outputs": [],
   "source": [
    "double_it()#Pas d'argument, argument par défaut qui a pris le relais"
   ]
  },
  {
   "cell_type": "code",
   "execution_count": null,
   "metadata": {},
   "outputs": [],
   "source": [
    "%whos"
   ]
  },
  {
   "cell_type": "code",
   "execution_count": null,
   "metadata": {},
   "outputs": [],
   "source": [
    "bigx = 1e9 ##Modification de bigx\n",
    "double_it() ##Pour lui bigx est toujours 10, il fait appelle à bigx tel qu'elle a été enregistré en mémoire avant\n",
    "\n",
    "#Il faut également modifier la fonction si on veut que l'argument change"
   ]
  },
  {
   "cell_type": "code",
   "execution_count": null,
   "metadata": {},
   "outputs": [],
   "source": [
    "%whos"
   ]
  },
  {
   "cell_type": "code",
   "execution_count": null,
   "metadata": {},
   "outputs": [],
   "source": []
  },
  {
   "cell_type": "markdown",
   "metadata": {},
   "source": [
    "Using an mutable type in a keyword argument (and modifying it inside the function body)"
   ]
  },
  {
   "cell_type": "code",
   "execution_count": null,
   "metadata": {
    "run_control": {
     "frozen": false,
     "read_only": false
    }
   },
   "outputs": [],
   "source": [
    "def add_to_dict(args={'a': 0, 'b': 0}):\n",
    "    for i in args.keys():\n",
    "        args[i] += 1\n",
    "    print(args)"
   ]
  },
  {
   "cell_type": "code",
   "execution_count": null,
   "metadata": {},
   "outputs": [],
   "source": [
    "add_to_dict()"
   ]
  },
  {
   "cell_type": "code",
   "execution_count": null,
   "metadata": {},
   "outputs": [],
   "source": [
    "%whos"
   ]
  },
  {
   "cell_type": "code",
   "execution_count": null,
   "metadata": {
    "run_control": {
     "frozen": false,
     "read_only": false
    }
   },
   "outputs": [],
   "source": [
    "add_to_dict\n",
    "add_to_dict()\n",
    "add_to_dict()\n",
    "add_to_dict()"
   ]
  },
  {
   "cell_type": "code",
   "execution_count": null,
   "metadata": {
    "run_control": {
     "frozen": false,
     "read_only": false
    }
   },
   "outputs": [],
   "source": [
    "#the {'a': 1, 'b': 2} was created in the memory on the moment that the definition was evaluated"
   ]
  },
  {
   "cell_type": "code",
   "execution_count": null,
   "metadata": {
    "run_control": {
     "frozen": false,
     "read_only": false
    }
   },
   "outputs": [],
   "source": [
    "def add_to_dict(args=None):\n",
    "    if not args: ##S'il n'y a pas d'argument\n",
    "        args = {'a': 1, 'b': 2} ##On va faire appel à ce dictionnaire\n",
    "        \n",
    "    for i in args.keys(): ##Pour chacune des clés dans mon dictionnaire\n",
    "        args[i] += 1 ##J'incrémente de 1 la valeur de la clé\n",
    "        \n",
    "    print(args)"
   ]
  },
  {
   "cell_type": "code",
   "execution_count": null,
   "metadata": {
    "run_control": {
     "frozen": false,
     "read_only": false
    }
   },
   "outputs": [],
   "source": [
    "add_to_dict()\n"
   ]
  },
  {
   "cell_type": "code",
   "execution_count": null,
   "metadata": {},
   "outputs": [],
   "source": [
    "add_to_dict() ##Ici ça s'incrémente pas, parce qu'il n y a pas d'argument"
   ]
  },
  {
   "cell_type": "markdown",
   "metadata": {},
   "source": [
    "### Variable number of parameters"
   ]
  },
  {
   "cell_type": "markdown",
   "metadata": {},
   "source": [
    "\n",
    "Special forms of parameters:\n",
    "\n",
    "* *args: any number of positional arguments packed into a tuple\n",
    "* **kwargs: any number of keyword arguments packed into a dictionary\n",
    "\n"
   ]
  },
  {
   "cell_type": "code",
   "execution_count": null,
   "metadata": {
    "run_control": {
     "frozen": false,
     "read_only": false
    }
   },
   "outputs": [],
   "source": [
    "def variable_args(*args, **kwargs):\n",
    "    print('args is', args)\n",
    "    print('kwargs is', kwargs)\n",
    "\n",
    "variable_args('one', 'two', x=1, y=2, z=3)\n"
   ]
  },
  {
   "cell_type": "markdown",
   "metadata": {},
   "source": [
    "### Docstrings"
   ]
  },
  {
   "cell_type": "markdown",
   "metadata": {},
   "source": [
    "Documentation about what the function does and its parameters. General convention:"
   ]
  },
  {
   "cell_type": "code",
   "execution_count": null,
   "metadata": {
    "run_control": {
     "frozen": false,
     "read_only": false
    }
   },
   "outputs": [],
   "source": [
    "##Il est necessaire de savoir le role de la fonction, l'entrée et la sortie \n",
    "def funcname(params):\n",
    "    \"\"\"Concise one-line sentence describing the function.\n",
    "    \n",
    "    Extended summary which can contain multiple paragraphs.\n",
    "    \"\"\"\n",
    "    # function body\n",
    "    pass\n",
    "\n",
    "funcname?"
   ]
  },
  {
   "cell_type": "code",
   "execution_count": null,
   "metadata": {},
   "outputs": [],
   "source": [
    "funcname(1)"
   ]
  },
  {
   "cell_type": "markdown",
   "metadata": {},
   "source": [
    "### Functions are objects"
   ]
  },
  {
   "cell_type": "markdown",
   "metadata": {},
   "source": [
    "\n",
    "Functions are first-class objects, which means they can be:\n",
    "\n",
    "* assigned to a variable\n",
    "* an item in a list (or any collection)\n",
    "* passed as an argument to another function.\n",
    "\n"
   ]
  },
  {
   "cell_type": "code",
   "execution_count": null,
   "metadata": {
    "run_control": {
     "frozen": false,
     "read_only": false
    }
   },
   "outputs": [],
   "source": [
    "va = variable_args ##renommer une fonction\n",
    "va('three', x=1, y=2)"
   ]
  },
  {
   "cell_type": "markdown",
   "metadata": {},
   "source": [
    "### Methods"
   ]
  },
  {
   "cell_type": "markdown",
   "metadata": {},
   "source": [
    "Methods are functions attached to objects. You’ve seen these in our examples on lists, dictionaries, strings, etc...\n",
    "\n",
    "Calling them can be done by dir(object):"
   ]
  },
  {
   "cell_type": "markdown",
   "metadata": {},
   "source": [
    "-------------------------------"
   ]
  },
  {
   "cell_type": "code",
   "execution_count": null,
   "metadata": {
    "run_control": {
     "frozen": false,
     "read_only": false
    }
   },
   "outputs": [],
   "source": [
    "dd = {'antea': 3, 'IMDC': 2, 'arcadis': 4, 'witteveen': 5, 'grontmij': 1}"
   ]
  },
  {
   "cell_type": "markdown",
   "metadata": {},
   "source": [
    "<div class=\"alert alert-success\">\n",
    "    <b>EXERCISE</b>: Make a function of the exercise in the previous notebook: Given the dictionary `dd`, check if a key is already existing in the dictionary and raise an exception if the key already exist. Otherwise, return the dict with the element added.\n",
    "</div>"
   ]
  },
  {
   "cell_type": "code",
   "execution_count": 80,
   "metadata": {},
   "outputs": [],
   "source": [
    "def check_for_key(dd,ele):\n",
    "    if ele in dd:\n",
    "        raise Exception ('key in dictionnary')\n",
    "    else:\n",
    "        dd[ele] = 0\n",
    "    print(dd)\n",
    "  "
   ]
  },
  {
   "cell_type": "code",
   "execution_count": 81,
   "metadata": {
    "run_control": {
     "frozen": false,
     "read_only": false
    }
   },
   "outputs": [
    {
     "name": "stdout",
     "output_type": "stream",
     "text": [
      "{'antea': 3, 'IMDC': 2, 'arcadis': 4, 'witteveen': 5, 'grontmij': 1, 'deme': 0}\n"
     ]
    }
   ],
   "source": [
    "check_for_key(dd, 'deme')"
   ]
  },
  {
   "cell_type": "code",
   "execution_count": 73,
   "metadata": {
    "run_control": {
     "frozen": false,
     "read_only": false
    }
   },
   "outputs": [
    {
     "ename": "Exception",
     "evalue": "key not in dictionnary",
     "output_type": "error",
     "traceback": [
      "\u001b[0;31m---------------------------------------------------------------------------\u001b[0m",
      "\u001b[0;31mException\u001b[0m                                 Traceback (most recent call last)",
      "\u001b[0;32m<ipython-input-73-a42193ad4414>\u001b[0m in \u001b[0;36m<module>\u001b[0;34m\u001b[0m\n\u001b[0;32m----> 1\u001b[0;31m \u001b[0mcheck_for_key\u001b[0m\u001b[0;34m(\u001b[0m\u001b[0mdd\u001b[0m\u001b[0;34m,\u001b[0m \u001b[0;34m'antea'\u001b[0m\u001b[0;34m)\u001b[0m \u001b[0;31m# uncomment this line\u001b[0m\u001b[0;34m\u001b[0m\u001b[0;34m\u001b[0m\u001b[0m\n\u001b[0m",
      "\u001b[0;32m<ipython-input-71-a8e2c1c3fc68>\u001b[0m in \u001b[0;36mcheck_for_key\u001b[0;34m(dd, ele)\u001b[0m\n\u001b[1;32m      1\u001b[0m \u001b[0;32mdef\u001b[0m \u001b[0mcheck_for_key\u001b[0m\u001b[0;34m(\u001b[0m\u001b[0mdd\u001b[0m\u001b[0;34m,\u001b[0m\u001b[0mele\u001b[0m\u001b[0;34m)\u001b[0m\u001b[0;34m:\u001b[0m\u001b[0;34m\u001b[0m\u001b[0;34m\u001b[0m\u001b[0m\n\u001b[1;32m      2\u001b[0m     \u001b[0;32mif\u001b[0m \u001b[0mele\u001b[0m \u001b[0;32min\u001b[0m \u001b[0mdd\u001b[0m\u001b[0;34m:\u001b[0m\u001b[0;34m\u001b[0m\u001b[0;34m\u001b[0m\u001b[0m\n\u001b[0;32m----> 3\u001b[0;31m         \u001b[0;32mraise\u001b[0m \u001b[0mException\u001b[0m \u001b[0;34m(\u001b[0m\u001b[0;34m'key not in dictionnary'\u001b[0m\u001b[0;34m)\u001b[0m\u001b[0;34m\u001b[0m\u001b[0;34m\u001b[0m\u001b[0m\n\u001b[0m\u001b[1;32m      4\u001b[0m     \u001b[0;32melse\u001b[0m\u001b[0;34m:\u001b[0m\u001b[0;34m\u001b[0m\u001b[0;34m\u001b[0m\u001b[0m\n\u001b[1;32m      5\u001b[0m         \u001b[0mdd\u001b[0m\u001b[0;34m[\u001b[0m\u001b[0mele\u001b[0m\u001b[0;34m]\u001b[0m \u001b[0;34m=\u001b[0m \u001b[0;36m0\u001b[0m\u001b[0;34m\u001b[0m\u001b[0;34m\u001b[0m\u001b[0m\n",
      "\u001b[0;31mException\u001b[0m: key not in dictionnary"
     ]
    }
   ],
   "source": [
    "check_for_key(dd, 'antea') # uncomment this line"
   ]
  },
  {
   "cell_type": "code",
   "execution_count": 310,
   "metadata": {},
   "outputs": [],
   "source": [
    "##Si ma clé est dans le dictionnaire, je rajoute la clé et sa valeur dans le dictionnaire\n",
    "def in_dico(dico,cle, valeur):\n",
    "    if(cle in dico):\n",
    "        cle = cle + \"_\"\n",
    "        dico[cle] = valeur\n",
    "        print(dico)\n",
    "    else:\n",
    "        dico[cle] = valeur\n",
    "        print(\"Not in the dictionary\")\n",
    "        print(dico)"
   ]
  },
  {
   "cell_type": "code",
   "execution_count": 311,
   "metadata": {},
   "outputs": [
    {
     "name": "stdout",
     "output_type": "stream",
     "text": [
      "Not in the dictionary\n",
      "{'antea': 3, 'IMDC': 2, 'arcadis': 4, 'witteveen': 5, 'grontmij': 1, 'deme': 0, 'ias': 7}\n"
     ]
    }
   ],
   "source": [
    "in_dico(dd, \"ias\", 7)"
   ]
  },
  {
   "cell_type": "code",
   "execution_count": null,
   "metadata": {},
   "outputs": [],
   "source": [
    "## Exercice 2 : coder la fonction pythagore\n",
    "## Calculer a**2 + b**2 = c**2\n",
    "## Entrée : a, b (int) : note a, b int --> float, str, bool\n",
    "## Sortie : c"
   ]
  },
  {
   "cell_type": "code",
   "execution_count": null,
   "metadata": {},
   "outputs": [],
   "source": [
    "## Gestion des exceptions pour les cas suivants : \n",
    "\n",
    "## Saisie d'une str dans les arguments de la fonction\n",
    "## Saisie d'un nombre complexe\n",
    "## Saisie d'un nombre négatif\n",
    "## Saisie d'un très grand nombre\n",
    "## Saisie d'un très petit nombre"
   ]
  },
  {
   "cell_type": "code",
   "execution_count": null,
   "metadata": {},
   "outputs": [],
   "source": [
    "##MA méthode"
   ]
  },
  {
   "cell_type": "code",
   "execution_count": 1,
   "metadata": {},
   "outputs": [],
   "source": [
    "import time\n",
    "\n",
    "def pythagore2(a, b):\n",
    "    \n",
    "    ##String\n",
    "    if type(a) == str or type(b) == str: ##Si a ou b sont des str\n",
    "        #raise Exception('Pythagore Not Applicable with Str')\n",
    "        print(\"Impossibilité de saisir un str dans la fonction\")\n",
    "        print(\"Veuillez saisir un e valeur numérique\")\n",
    "        if type(a) == str &  type(b) == int:\n",
    "            a = int(input()) ##Saisie d'une nouvelle valeur a\n",
    "        elif type(b) == str & type(a) == int:\n",
    "            b = int(input()) ##Saisie d'une nouvelle valeur b\n",
    "        else:\n",
    "            a = int(input())\n",
    "            b = int(input())       \n",
    "\n",
    "    ##Complex    \n",
    "    elif a.imag != 0 or b.imag != 0 :\n",
    "        #raise Exception('Pythagore Not Applicable with Complex ')\n",
    "        \n",
    "        ##To calculate pythagore with complex nb, check if a.imag and b.imag are positif\n",
    "        if a.imag < 0 or b.imag < 0:\n",
    "            raise Exception('Negatif value of argument')\n",
    "        else:\n",
    "            c = (a.real**2 + b.real**2)**1/2\n",
    "        \n",
    "    ##Négatif nb      \n",
    "    elif a < 0 or b < 0:\n",
    "        raise Exception('Negatif values not accepted')\n",
    "    \n",
    "    ##Very small numbers\n",
    "    ##elif a < float(input()) or b < float(input()):\n",
    "       ## raise Exception('Very small values not accepted')\n",
    "    \n",
    "    ##Big numbers\n",
    "        \n",
    "    else: \n",
    "        Start_time = time.time()\n",
    "        c = (a**2 + b**2)**1/2\n",
    "        End_time = time.time()\n",
    "        \n",
    "        if (End_time - Start_time) > float(input()):\n",
    "            raise Exception('Very small values not accepted') \n",
    "        else:\n",
    "            return calcul(a,b)"
   ]
  },
  {
   "cell_type": "code",
   "execution_count": 2,
   "metadata": {},
   "outputs": [],
   "source": [
    "##Sa méthode : ensemble de fonction pour construire Pythagore // Fonction plus robuste "
   ]
  },
  {
   "cell_type": "code",
   "execution_count": 3,
   "metadata": {},
   "outputs": [],
   "source": [
    "##Fonction simple pour calculer pythagore\n",
    "def pythagore1(a,b):\n",
    "    c = (a**2 + b**2)**1/2\n",
    "    return c"
   ]
  },
  {
   "cell_type": "code",
   "execution_count": 4,
   "metadata": {},
   "outputs": [
    {
     "ename": "NameError",
     "evalue": "name 'pythagore' is not defined",
     "output_type": "error",
     "traceback": [
      "\u001b[0;31m---------------------------------------------------------------------------\u001b[0m",
      "\u001b[0;31mNameError\u001b[0m                                 Traceback (most recent call last)",
      "\u001b[0;32m<ipython-input-4-5a58f086d8a7>\u001b[0m in \u001b[0;36m<module>\u001b[0;34m\u001b[0m\n\u001b[0;32m----> 1\u001b[0;31m \u001b[0mprint\u001b[0m\u001b[0;34m(\u001b[0m\u001b[0mpythagore\u001b[0m\u001b[0;34m(\u001b[0m\u001b[0;36m1\u001b[0m\u001b[0;34m,\u001b[0m\u001b[0;36m2\u001b[0m\u001b[0;34m)\u001b[0m\u001b[0;34m)\u001b[0m\u001b[0;34m\u001b[0m\u001b[0;34m\u001b[0m\u001b[0m\n\u001b[0m",
      "\u001b[0;31mNameError\u001b[0m: name 'pythagore' is not defined"
     ]
    }
   ],
   "source": [
    "print(pythagore(1,2))"
   ]
  },
  {
   "cell_type": "code",
   "execution_count": null,
   "metadata": {},
   "outputs": [],
   "source": [
    "def calcul(a,b):\n",
    "    c = (a**2 + b**2)**1/2\n",
    "    return c"
   ]
  },
  {
   "cell_type": "code",
   "execution_count": null,
   "metadata": {},
   "outputs": [],
   "source": [
    "print(calcul(1,2))"
   ]
  },
  {
   "cell_type": "code",
   "execution_count": null,
   "metadata": {},
   "outputs": [],
   "source": [
    "def is_complex(a,b):\n",
    "    ##Si les nombres entrée sont complexes\n",
    "    if type(a) == complex & type(b) == int:\n",
    "        a = a.real ##On récupère la partie réelle du nombre et on réaffecte la valeur de a avec\n",
    "    elif type(b) == complex & type(a) == int:\n",
    "        b = b.real ##On récupère la partie réelle du nombre et on réaffecte la valeur de b avec\n",
    "    else: \n",
    "        a = a.real\n",
    "        b = b.real\n",
    "        return (a,b)\n",
    "    "
   ]
  },
  {
   "cell_type": "code",
   "execution_count": null,
   "metadata": {},
   "outputs": [],
   "source": [
    "print(is_complex(1+6j, 3+4j))"
   ]
  },
  {
   "cell_type": "code",
   "execution_count": null,
   "metadata": {},
   "outputs": [],
   "source": [
    "def neg(a,b):\n",
    "    ##Si l'un des deux est négatif, on passe à la valeur absolue\n",
    "    if a < 0 and b > 0:\n",
    "        a = abs(a)\n",
    "    elif a > 0 and b < 0:\n",
    "        b = abs(b)\n",
    "    else:\n",
    "        a = abs(a)\n",
    "        b = abs(b)\n",
    "        return (a,b)"
   ]
  },
  {
   "cell_type": "code",
   "execution_count": null,
   "metadata": {},
   "outputs": [],
   "source": [
    "print(neg(-1,-3))"
   ]
  },
  {
   "cell_type": "code",
   "execution_count": null,
   "metadata": {},
   "outputs": [],
   "source": [
    "##Pour récupérer  a : valeur abs\n",
    "neg(-1,-3)[0]"
   ]
  },
  {
   "cell_type": "code",
   "execution_count": null,
   "metadata": {},
   "outputs": [],
   "source": [
    "##Pour récupérer  b : valeur abs\n",
    "neg(-1,-3)[1]"
   ]
  },
  {
   "cell_type": "code",
   "execution_count": null,
   "metadata": {},
   "outputs": [],
   "source": [
    "##Cas 4 : Saisie d'un très grand nombre\n",
    "##Regarder sur internet la limit des digits sur python "
   ]
  },
  {
   "cell_type": "code",
   "execution_count": null,
   "metadata": {},
   "outputs": [],
   "source": [
    "##Définir une limite sur le nombre de la fonction \n",
    "\n",
    "##Si le nombre de la digit est > à la borne alors\n",
    "##1) Reinput\n",
    "##Correction nombre\n",
    "\n",
    "def limit_digit(a,b,borne):\n",
    "    if  len(str(a)) > borne :##On vérifie la première fois la saisie, Comment on s'assure que l'utilisateur saisisse un nombre sup\n",
    "        while(len(str(a)) > borne):  ##On force l'utilisateur à resaisir le nombre tel que la longueur est inf à la borne, j'introduits le while. Est ce que celle-ci vérifie la condition\n",
    "            print(\"le nombre a saisie comporte plus de {} digit, Veuillez le resaisir\".format(borne))\n",
    "            a = int(input())\n",
    "    elif len(str(b)) > borne :\n",
    "        while len(str(b)) > borne :\n",
    "            print(\"le nombre b saisie comporte plus de {} digit, Veuillez le resaisir\".format(borne))\n",
    "            b = int(input())\n",
    "    elif len(str(a)) > borne and len(str(b)) > borne :   ## La longueur de b est sup à la borne et la longueur de a est sup à la borne\n",
    "        while  len(str(a)) > borne and len(str(b)) > borne :\n",
    "            print(\"les nombres a et b saisient comporte plus de {} digit, Veuillez le resaisir\".format(borne))\n",
    "            a = int(input())\n",
    "            b = int(input())\n",
    "      ##Il existe d'autre cas\n",
    "    else:\n",
    "        pass\n",
    "\n",
    "  \n",
    "    return(a,b)\n"
   ]
  },
  {
   "cell_type": "code",
   "execution_count": null,
   "metadata": {},
   "outputs": [],
   "source": [
    "##Recap de la fonction pythagore\n",
    "def pythagore(a, b):\n",
    "    \n",
    "    ########################################################################################\n",
    "    ## Cas1 = String\n",
    "    ########################################################################################\n",
    "    if type(a) == str or type(b) == str: ##Si a ou b sont des str\n",
    "        #raise Exception('Pythagore Not Applicable with Str')\n",
    "        print(\"Impossibilité de saisir un str dans la fonction\")\n",
    "        print(\"Veuillez saisir un e valeur numérique\")\n",
    "        if type(a) == str &  type(b) == int:\n",
    "            a = int(input()) ##Saisie d'une nouvelle valeur a\n",
    "        elif type(b) == str & type(a) == int:\n",
    "            b = int(input()) ##Saisie d'une nouvelle valeur b\n",
    "        else:\n",
    "            a = int(input())\n",
    "            b = int(input()) \n",
    "            \n",
    "    ########################################################################################\n",
    "    ## Cas2 = Complexe\n",
    "    ########################################################################################\n",
    "    elif type(a) == complex or type(b) == complex :\n",
    "        is_complex(a,b)\n",
    "        a = is_complex(a,b)[0]##PArtie réelle du premier nombre complexe\n",
    "        b = is_complex(a,b)[1]##PArtie réelle du second nombre complexe\n",
    "    \n",
    "\n",
    "\n",
    "    ########################################################################################\n",
    "    ## Cas3 = Entier négatif\n",
    "    ########################################################################################\n",
    "    elif (type(a) in [int, float]) or (type(b) in [int, float]):\n",
    "        neg(a,b)\n",
    "        a = neg(a,b)[0] ##Récupérer la variable a (valeur absolue)\n",
    "        b = neg(a,b)[1] ##Récupérer la variable b (valeur absolue)\n",
    "     \n",
    "    \n",
    "    \n",
    "    ########################################################################################\n",
    "    ## Cas4 : longueur de la variable\n",
    "    ########################################################################################\n",
    "    elif (len(str(a)) > 16) or (len(str(b)) > 16): ##On reste sur la borne 16, on peut la rajouter parmi les arguments de pythagore\n",
    "        limit_digit(a,b)\n",
    "        a = limit_digit(a,b)[0]\n",
    "        b = limit_digit(a,b)[1]\n",
    "        \n",
    "    return calcul(a,b) ##Appel à la fonction calcul pour calculer pythagore \n",
    "\n",
    "        "
   ]
  },
  {
   "cell_type": "code",
   "execution_count": null,
   "metadata": {},
   "outputs": [],
   "source": [
    "##Tests de la fonction pythagore"
   ]
  },
  {
   "cell_type": "code",
   "execution_count": null,
   "metadata": {},
   "outputs": [],
   "source": [
    "print(pythagore2(\"a\",4))##Test str ok"
   ]
  },
  {
   "cell_type": "code",
   "execution_count": null,
   "metadata": {},
   "outputs": [],
   "source": [
    "print(pythagore2(3,\"b\")) ##Test str ok"
   ]
  },
  {
   "cell_type": "code",
   "execution_count": null,
   "metadata": {},
   "outputs": [],
   "source": [
    "print(pythagore2(1+6j, 3+4j)) ##TEst complexe ok"
   ]
  },
  {
   "cell_type": "code",
   "execution_count": null,
   "metadata": {},
   "outputs": [],
   "source": [
    "print(pythagore2(-3,4)) ##Test nb neg ok"
   ]
  },
  {
   "cell_type": "code",
   "execution_count": null,
   "metadata": {},
   "outputs": [],
   "source": [
    "print(pythagore2(3,4)) ##Test nb neg int ok"
   ]
  },
  {
   "cell_type": "code",
   "execution_count": null,
   "metadata": {},
   "outputs": [],
   "source": [
    "print(pythagore2(-3,-4)) ##Test nb neg int ok"
   ]
  },
  {
   "cell_type": "code",
   "execution_count": null,
   "metadata": {},
   "outputs": [],
   "source": [
    "print(pythagore2(-3.,-4)) ##Test nb neg float ok"
   ]
  },
  {
   "cell_type": "code",
   "execution_count": null,
   "metadata": {},
   "outputs": [],
   "source": []
  },
  {
   "cell_type": "code",
   "execution_count": null,
   "metadata": {},
   "outputs": [],
   "source": []
  },
  {
   "cell_type": "code",
   "execution_count": null,
   "metadata": {},
   "outputs": [],
   "source": []
  },
  {
   "cell_type": "markdown",
   "metadata": {},
   "source": [
    "-----------------------------"
   ]
  },
  {
   "cell_type": "markdown",
   "metadata": {},
   "source": [
    "## Object oriented Programming"
   ]
  },
  {
   "cell_type": "markdown",
   "metadata": {},
   "source": [
    "Wondering what OO is? A very nice introduction is given here: http://py.processing.org/tutorials/objects/"
   ]
  },
  {
   "cell_type": "markdown",
   "metadata": {},
   "source": [
    "Python supports object-oriented programming (OOP). The goals of OOP are:\n",
    "\n",
    "* to organize the code, and\n",
    "* to re-use code in similar contexts.\n",
    "\n"
   ]
  },
  {
   "cell_type": "markdown",
   "metadata": {},
   "source": [
    "Here is a small example: we create a Student class, which is an object gathering several custom functions (**methods**) and variables (**attributes**), we will be able to use:"
   ]
  },
  {
   "cell_type": "code",
   "execution_count": null,
   "metadata": {},
   "outputs": [],
   "source": [
    "##On parle de POO, utiliser un langage pour construire des outils tel que un jeu de vidéo (créer des entités membre, nombres de points, ...\n",
    "##Les joueurs, les adversaires, les niveaux,les bonus\n",
    "##Faire le lien entre ces objets\n",
    "##Le but du POO, créer des objets, c'est objet vont intéragir entre eux\n",
    "##Une classe est une super fonction\n",
    "##L'idée d'une classe, on va avoir les individus qui 'ont les memes caractéristiques'\n",
    "##L'idée c'est de modéliser ce système, plutot que de résonner en fonctions\n",
    "##Si on regroupe des fonction dans un ordre précis, regrouper sous la forme d'un objet, caractérise un objet \n",
    "##tous ce qui caractérise un personnage est dans la classe : on appele ça des méthode\n",
    "##Les variables sont appelé: les attributs\n",
    "\n",
    "##On peut avoir "
   ]
  },
  {
   "cell_type": "code",
   "execution_count": 21,
   "metadata": {
    "run_control": {
     "frozen": false,
     "read_only": false
    }
   },
   "outputs": [],
   "source": [
    "class Employee():  #object\n",
    "    \n",
    "    #Cette fonction va permettre de voir les caractéristiques par défaut des employés, des args par défaut (name,wage)\n",
    "    ##Classe init: va donner une identité à l'employé\n",
    "    ##Non accessible à l'utilisiteur __\n",
    "    ##Self: arg qui renvoie à l'objet lui meme : après l'objet c'est de créer des objets /des individus de noms différents...\n",
    "    def __init__(self, name, wage=60.):\n",
    "        \"\"\"\n",
    "        Employee class to save the amount of hours worked and related earnings\n",
    "        \"\"\"\n",
    "        ##Modéliser cette classe d'employer\n",
    "        \n",
    "        self.name = name ##Objet lui meme\n",
    "        self.wage = wage\n",
    "        \n",
    "        self.hours = 0. \n",
    "        \n",
    "        self.projects = {} ##Attribut du projet: dictionnaire {\"nom du projet\" : \"nombre d'heure associé\"}\n",
    "        \n",
    "   \n",
    "\n",
    "    def new_project(self, projectname):\n",
    "        \"\"\"\n",
    "        \"\"\"\n",
    "        if projectname in self.projects : ##Si  le nom de projet existe\n",
    "            raise Exception  (\"project already exist for \", self.name)\n",
    "        else: ##Sinon\n",
    "            self.projects[projectname] = 0. ##Sauvegarder le nom du projet dans un dictionnaire\n",
    "   \n",
    "    \n",
    "    ##Accessible aux utilisitateurs\n",
    "    ##Worked est une Methode accessible\n",
    "    def worked(self, hours, projectname):\n",
    "        \"\"\"add worked hours on a project\n",
    "        \"\"\"\n",
    "        try:\n",
    "            hours = float(hours)\n",
    "        except:\n",
    "            raise Exception(\"Hours not convertable to float!\")\n",
    "        \n",
    "        ##On cumule le nombre d'heure travaillé par l'employé \n",
    "        self.hours += hours\n",
    "        \n",
    "    ##calc_earnings : \n",
    "    def calc_earnings(self):\n",
    "        \"\"\"\n",
    "        Calculate earnings\n",
    "        \"\"\"\n",
    "        return self.hours *self.wage"
   ]
  },
  {
   "cell_type": "code",
   "execution_count": 22,
   "metadata": {
    "run_control": {
     "frozen": false,
     "read_only": false
    }
   },
   "outputs": [],
   "source": [
    "bert = Employee('bert') ##Instantiation de l'objet à la classe, Créer un 1er individu \"Bert\"\n",
    "bob = Employee (\"bob\") ##Objet bob a été créer avec la classe qui était sans la méthode \"new_project\""
   ]
  },
  {
   "cell_type": "code",
   "execution_count": 26,
   "metadata": {
    "scrolled": true
   },
   "outputs": [
    {
     "ename": "Exception",
     "evalue": "('project already exist for ', 'bob')",
     "output_type": "error",
     "traceback": [
      "\u001b[0;31m---------------------------------------------------------------------------\u001b[0m",
      "\u001b[0;31mException\u001b[0m                                 Traceback (most recent call last)",
      "\u001b[0;32m<ipython-input-26-357521ce2444>\u001b[0m in \u001b[0;36m<module>\u001b[0;34m\u001b[0m\n\u001b[0;32m----> 1\u001b[0;31m \u001b[0mbob\u001b[0m\u001b[0;34m.\u001b[0m\u001b[0mnew_project\u001b[0m\u001b[0;34m(\u001b[0m\u001b[0;34m\"bb\"\u001b[0m\u001b[0;34m)\u001b[0m \u001b[0;31m##Error car l'objet doit etre recréer pour qu'il y est en mémoire les 3 méthodes de la classe\u001b[0m\u001b[0;34m\u001b[0m\u001b[0;34m\u001b[0m\u001b[0m\n\u001b[0m",
      "\u001b[0;32m<ipython-input-21-7b65c4236af2>\u001b[0m in \u001b[0;36mnew_project\u001b[0;34m(self, projectname)\u001b[0m\n\u001b[1;32m     24\u001b[0m         \"\"\"\n\u001b[1;32m     25\u001b[0m         \u001b[0;32mif\u001b[0m \u001b[0mprojectname\u001b[0m \u001b[0;32min\u001b[0m \u001b[0mself\u001b[0m\u001b[0;34m.\u001b[0m\u001b[0mprojects\u001b[0m \u001b[0;34m:\u001b[0m \u001b[0;31m##Si  le nom de projet existe\u001b[0m\u001b[0;34m\u001b[0m\u001b[0;34m\u001b[0m\u001b[0m\n\u001b[0;32m---> 26\u001b[0;31m             \u001b[0;32mraise\u001b[0m \u001b[0mException\u001b[0m  \u001b[0;34m(\u001b[0m\u001b[0;34m\"project already exist for \"\u001b[0m\u001b[0;34m,\u001b[0m \u001b[0mself\u001b[0m\u001b[0;34m.\u001b[0m\u001b[0mname\u001b[0m\u001b[0;34m)\u001b[0m\u001b[0;34m\u001b[0m\u001b[0;34m\u001b[0m\u001b[0m\n\u001b[0m\u001b[1;32m     27\u001b[0m         \u001b[0;32melse\u001b[0m\u001b[0;34m:\u001b[0m \u001b[0;31m##Sinon\u001b[0m\u001b[0;34m\u001b[0m\u001b[0;34m\u001b[0m\u001b[0m\n\u001b[1;32m     28\u001b[0m             \u001b[0mself\u001b[0m\u001b[0;34m.\u001b[0m\u001b[0mprojects\u001b[0m\u001b[0;34m[\u001b[0m\u001b[0mprojectname\u001b[0m\u001b[0;34m]\u001b[0m \u001b[0;34m=\u001b[0m \u001b[0;36m0.\u001b[0m \u001b[0;31m##Sauvegarder le nom du projet dans un dictionnaire\u001b[0m\u001b[0;34m\u001b[0m\u001b[0;34m\u001b[0m\u001b[0m\n",
      "\u001b[0;31mException\u001b[0m: ('project already exist for ', 'bob')"
     ]
    }
   ],
   "source": [
    "bob.new_project(\"bb\") ##Error car l'objet doit etre recréer pour qu'il y est en mémoire les 3 méthodes de la classe"
   ]
  },
  {
   "cell_type": "code",
   "execution_count": 15,
   "metadata": {},
   "outputs": [],
   "source": [
    "bob = Employee (\"bob\")\n",
    "bert = Employee('bert')\n",
    "bert.new_project(\"kk\")"
   ]
  },
  {
   "cell_type": "code",
   "execution_count": 16,
   "metadata": {},
   "outputs": [
    {
     "name": "stdout",
     "output_type": "stream",
     "text": [
      "Variable   Type        Data/Info\n",
      "--------------------------------\n",
      "Employee   type        <class '__main__.Employee'>\n",
      "bert       Employee    <__main__.Employee object at 0x7fa6d00c84f0>\n",
      "bob        Employee    <__main__.Employee object at 0x7fa6d00c88b0>\n"
     ]
    }
   ],
   "source": [
    "%whos"
   ]
  },
  {
   "cell_type": "code",
   "execution_count": 17,
   "metadata": {},
   "outputs": [],
   "source": [
    "bob.worked(30, \"kk\") ###Worked --> Ajoute 30 heures à l'employé bob"
   ]
  },
  {
   "cell_type": "code",
   "execution_count": 18,
   "metadata": {},
   "outputs": [
    {
     "data": {
      "text/plain": [
       "1800.0"
      ]
     },
     "execution_count": 18,
     "metadata": {},
     "output_type": "execute_result"
    }
   ],
   "source": [
    "bob.calc_earnings() ##Calculer le revenu de bob : 30 * 60"
   ]
  },
  {
   "cell_type": "code",
   "execution_count": 19,
   "metadata": {},
   "outputs": [
    {
     "data": {
      "text/plain": [
       "1800.0"
      ]
     },
     "execution_count": 19,
     "metadata": {},
     "output_type": "execute_result"
    }
   ],
   "source": [
    "bob.calc_earnings() ##Si on reCalcule le revenu de bob : (30+ 30) * 60 \n",
    "\n",
    "##( à chaque fois, qu'on réexécute la méthode.worked, ça rajoute 30 heures à l'objet)\n"
   ]
  },
  {
   "cell_type": "code",
   "execution_count": 20,
   "metadata": {
    "run_control": {
     "frozen": false,
     "read_only": false
    }
   },
   "outputs": [
    {
     "ename": "TypeError",
     "evalue": "worked() missing 1 required positional argument: 'projectname'",
     "output_type": "error",
     "traceback": [
      "\u001b[0;31m---------------------------------------------------------------------------\u001b[0m",
      "\u001b[0;31mTypeError\u001b[0m                                 Traceback (most recent call last)",
      "\u001b[0;32m<ipython-input-20-bf6e4ca34ae8>\u001b[0m in \u001b[0;36m<module>\u001b[0;34m\u001b[0m\n\u001b[0;32m----> 1\u001b[0;31m \u001b[0mbert\u001b[0m\u001b[0;34m.\u001b[0m\u001b[0mworked\u001b[0m\u001b[0;34m(\u001b[0m\u001b[0;36m10.\u001b[0m\u001b[0;34m)\u001b[0m\u001b[0;34m\u001b[0m\u001b[0;34m\u001b[0m\u001b[0m\n\u001b[0m",
      "\u001b[0;31mTypeError\u001b[0m: worked() missing 1 required positional argument: 'projectname'"
     ]
    }
   ],
   "source": [
    "bert.worked(10.) \n"
   ]
  },
  {
   "cell_type": "code",
   "execution_count": 43,
   "metadata": {},
   "outputs": [],
   "source": [
    "bert.worked(30.)\n"
   ]
  },
  {
   "cell_type": "code",
   "execution_count": 44,
   "metadata": {},
   "outputs": [],
   "source": [
    "bert.wage = 80.   ##Changement du Wage par défaut ---->60 à 80"
   ]
  },
  {
   "cell_type": "code",
   "execution_count": 45,
   "metadata": {
    "run_control": {
     "frozen": false,
     "read_only": false
    }
   },
   "outputs": [
    {
     "data": {
      "text/plain": [
       "4800.0"
      ]
     },
     "execution_count": 45,
     "metadata": {},
     "output_type": "execute_result"
    }
   ],
   "source": [
    "bert.calc_earnings()"
   ]
  },
  {
   "cell_type": "code",
   "execution_count": 46,
   "metadata": {
    "run_control": {
     "frozen": false,
     "read_only": false
    }
   },
   "outputs": [
    {
     "data": {
      "text/plain": [
       "['__class__',\n",
       " '__delattr__',\n",
       " '__dict__',\n",
       " '__dir__',\n",
       " '__doc__',\n",
       " '__eq__',\n",
       " '__format__',\n",
       " '__ge__',\n",
       " '__getattribute__',\n",
       " '__gt__',\n",
       " '__hash__',\n",
       " '__init__',\n",
       " '__init_subclass__',\n",
       " '__le__',\n",
       " '__lt__',\n",
       " '__module__',\n",
       " '__ne__',\n",
       " '__new__',\n",
       " '__reduce__',\n",
       " '__reduce_ex__',\n",
       " '__repr__',\n",
       " '__setattr__',\n",
       " '__sizeof__',\n",
       " '__str__',\n",
       " '__subclasshook__',\n",
       " '__weakref__',\n",
       " 'calc_earnings',\n",
       " 'worked']"
      ]
     },
     "execution_count": 46,
     "metadata": {},
     "output_type": "execute_result"
    }
   ],
   "source": [
    "dir(Employee) ##Récupérer toutes les méthodes associées à la classe"
   ]
  },
  {
   "cell_type": "markdown",
   "metadata": {},
   "source": [
    "It is just the same al all the other objects we worked with!"
   ]
  },
  {
   "cell_type": "markdown",
   "metadata": {},
   "source": [
    "---------------------------------------"
   ]
  },
  {
   "cell_type": "markdown",
   "metadata": {},
   "source": [
    "<div class=\"alert alert-success\">\n",
    "    <b>EXERCISE</b>: Extend the class `Employee` with a projects attribute, which is a dictionary. Projects can be added by the method `new_project`. Hours are contributed to a specific project\n",
    "</div>"
   ]
  },
  {
   "cell_type": "code",
   "execution_count": null,
   "metadata": {},
   "outputs": [],
   "source": [
    "def worked(self, hours, project):\n",
    "        \"\"\"add worked hours on a project\n",
    "        \"\"\"\n",
    "    try:\n",
    "        hours = float(hours)\n",
    "    except:\n",
    "        raise Exception(\"Hours not convertable to float!\")\n",
    "        \n",
    "        ##On cumule le nombre d'heure travaillé par l'employé \n",
    "    self.hours += hours\n",
    "    \n",
    "    \n",
    "    \n"
   ]
  },
  {
   "cell_type": "code",
   "execution_count": null,
   "metadata": {
    "run_control": {
     "frozen": false,
     "read_only": false
    }
   },
   "outputs": [],
   "source": [
    "bert = Employee('bert')\n",
    "bert.new_project('vmm')"
   ]
  },
  {
   "cell_type": "code",
   "execution_count": null,
   "metadata": {
    "run_control": {
     "frozen": false,
     "read_only": false
    }
   },
   "outputs": [],
   "source": [
    "bert.worked(10., 'vmm')"
   ]
  },
  {
   "cell_type": "code",
   "execution_count": null,
   "metadata": {
    "run_control": {
     "frozen": false,
     "read_only": false
    }
   },
   "outputs": [],
   "source": [
    "bert.calc_earnings()"
   ]
  },
  {
   "cell_type": "code",
   "execution_count": null,
   "metadata": {
    "run_control": {
     "frozen": false,
     "read_only": false
    }
   },
   "outputs": [],
   "source": [
    "bert.new_project('pwc')"
   ]
  },
  {
   "cell_type": "code",
   "execution_count": null,
   "metadata": {
    "run_control": {
     "frozen": false,
     "read_only": false
    }
   },
   "outputs": [],
   "source": [
    "bert.info()"
   ]
  },
  {
   "cell_type": "code",
   "execution_count": null,
   "metadata": {
    "run_control": {
     "frozen": false,
     "read_only": false
    }
   },
   "outputs": [],
   "source": [
    "bert.worked(3., 'pwc')"
   ]
  },
  {
   "cell_type": "code",
   "execution_count": null,
   "metadata": {},
   "outputs": [],
   "source": []
  },
  {
   "cell_type": "code",
   "execution_count": null,
   "metadata": {},
   "outputs": [],
   "source": []
  },
  {
   "cell_type": "code",
   "execution_count": null,
   "metadata": {},
   "outputs": [],
   "source": []
  },
  {
   "cell_type": "markdown",
   "metadata": {},
   "source": [
    "---------------------------------------"
   ]
  }
 ],
 "metadata": {
  "celltoolbar": "Nbtutor - export exercises",
  "kernelspec": {
   "display_name": "Python 3",
   "language": "python",
   "name": "python3"
  },
  "language_info": {
   "codemirror_mode": {
    "name": "ipython",
    "version": 3
   },
   "file_extension": ".py",
   "mimetype": "text/x-python",
   "name": "python",
   "nbconvert_exporter": "python",
   "pygments_lexer": "ipython3",
   "version": "3.8.8"
  },
  "nav_menu": {},
  "toc": {
   "navigate_menu": true,
   "number_sections": true,
   "sideBar": true,
   "threshold": 6,
   "toc_cell": false,
   "toc_section_display": "block",
   "toc_window_display": false
  }
 },
 "nbformat": 4,
 "nbformat_minor": 4
}
